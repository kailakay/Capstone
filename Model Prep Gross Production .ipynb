{
 "cells": [
  {
   "cell_type": "code",
   "execution_count": 1,
   "metadata": {},
   "outputs": [],
   "source": [
    "import warnings\n",
    "warnings.filterwarnings('ignore')\n",
    "\n",
    "import pandas as pd\n",
    "import matplotlib.pyplot as plt\n",
    "import numpy as np\n",
    "import seaborn as sns\n",
    "\n",
    "import statistics as st\n",
    "\n",
    "# from statsmodels.formula.api import ols\n",
    "# from statsmodels.stats.outliers_influence import variance_inflation_factor\n",
    "# import statsmodels.api as sm\n",
    "# import scipy.stats as stats\n",
    "# from sklearn.model_selection import train_test_split"
   ]
  },
  {
   "cell_type": "markdown",
   "metadata": {},
   "source": [
    "#### Read in data, set each DF to a variable; then split the data into a Train and Test set (80/20).\n",
    "\n",
    "#### This allows for 'wild' data simulation i.e. the model doesn't get trained on the actual test set at all\n",
    "\n",
    "- fertilizers = pd.read_csv('Data/fao_data_fertilizers_data.csv')\n",
    "- fert_train, fert_test = train_test_split(fertilizers)\n",
    "\n",
    "- forest = pd.read_csv('Data/fao_data_forest_data.csv')\n",
    "- forest_train, forest_test = train_test_split(forest)\n",
    "\n",
    "- land = pd.read_csv('Data/fao_data_land_data.csv')\n",
    "- land_train, land_test = train_test_split(land)\n",
    "\n",
    "- production = pd.read_csv('Data/fao_data_production_indices_data.csv')\n",
    "- prod_train, prod_test = train_test_split(production)"
   ]
  },
  {
   "cell_type": "markdown",
   "metadata": {},
   "source": [
    "#### Print train & test shape\n",
    "- print('TRAIN SHAPE:')\n",
    "- print('fert: ', fert_train.shape, 'forest: ', forest_train.shape, 'land: ', land_train.shape, 'prod: ', prod_train.shape)\n",
    "- print()\n",
    "- print('TEST SHAPE:')\n",
    "- print('fert: ', fert_test.shape, 'forest: ', forest_test.shape, 'land: ', land_test.shape, 'prod: ', prod_test.shape)"
   ]
  },
  {
   "cell_type": "markdown",
   "metadata": {},
   "source": [
    "### Save files for future work\n",
    "- prod_train.to_csv('Data/Model Data/prod_train.csv', index=False)\n",
    "- prod_test.to_csv('Data/Model Data/prod_test.csv', index=False)"
   ]
  },
  {
   "cell_type": "markdown",
   "metadata": {},
   "source": [
    "# Read in train & test files"
   ]
  },
  {
   "cell_type": "code",
   "execution_count": 2,
   "metadata": {},
   "outputs": [],
   "source": [
    "prod_train = pd.read_csv('Data/Model Data/prod_train.csv')\n",
    "prod_test = pd.read_csv('Data/Model Data/prod_test.csv')"
   ]
  },
  {
   "cell_type": "markdown",
   "metadata": {},
   "source": [
    "# Investigating Production Data Structure"
   ]
  },
  {
   "cell_type": "code",
   "execution_count": 3,
   "metadata": {},
   "outputs": [
    {
     "name": "stdout",
     "output_type": "stream",
     "text": [
      "Region             0\n",
      "Element Code       0\n",
      "Element            9\n",
      "Year               9\n",
      "Unit               9\n",
      "Dollar Amount      9\n",
      "Value Footnotes    9\n",
      "Category           0\n",
      "dtype: int64\n"
     ]
    },
    {
     "data": {
      "text/html": [
       "<div>\n",
       "<style scoped>\n",
       "    .dataframe tbody tr th:only-of-type {\n",
       "        vertical-align: middle;\n",
       "    }\n",
       "\n",
       "    .dataframe tbody tr th {\n",
       "        vertical-align: top;\n",
       "    }\n",
       "\n",
       "    .dataframe thead th {\n",
       "        text-align: right;\n",
       "    }\n",
       "</style>\n",
       "<table border=\"1\" class=\"dataframe\">\n",
       "  <thead>\n",
       "    <tr style=\"text-align: right;\">\n",
       "      <th></th>\n",
       "      <th>Region</th>\n",
       "      <th>Element Code</th>\n",
       "      <th>Element</th>\n",
       "      <th>Year</th>\n",
       "      <th>Unit</th>\n",
       "      <th>Dollar Amount</th>\n",
       "      <th>Value Footnotes</th>\n",
       "      <th>Category</th>\n",
       "    </tr>\n",
       "  </thead>\n",
       "  <tbody>\n",
       "    <tr>\n",
       "      <th>0</th>\n",
       "      <td>Caribbean +</td>\n",
       "      <td>438</td>\n",
       "      <td>Net per capita PIN (base 1999-2001)</td>\n",
       "      <td>1977.0</td>\n",
       "      <td>Int. $</td>\n",
       "      <td>115.0</td>\n",
       "      <td>A</td>\n",
       "      <td>livestock_pin</td>\n",
       "    </tr>\n",
       "    <tr>\n",
       "      <th>1</th>\n",
       "      <td>Kiribati</td>\n",
       "      <td>434</td>\n",
       "      <td>Grs per capita PIN (base 1999-2001)</td>\n",
       "      <td>1980.0</td>\n",
       "      <td>Int. $</td>\n",
       "      <td>102.0</td>\n",
       "      <td>A</td>\n",
       "      <td>crops_pin</td>\n",
       "    </tr>\n",
       "    <tr>\n",
       "      <th>2</th>\n",
       "      <td>Micronesia +</td>\n",
       "      <td>438</td>\n",
       "      <td>Net per capita PIN (base 1999-2001)</td>\n",
       "      <td>1965.0</td>\n",
       "      <td>Int. $</td>\n",
       "      <td>335.0</td>\n",
       "      <td>A</td>\n",
       "      <td>agriculture_pin</td>\n",
       "    </tr>\n",
       "    <tr>\n",
       "      <th>3</th>\n",
       "      <td>Occupied Palestinian Territory</td>\n",
       "      <td>434</td>\n",
       "      <td>Grs per capita PIN (base 1999-2001)</td>\n",
       "      <td>1964.0</td>\n",
       "      <td>Int. $</td>\n",
       "      <td>0.0</td>\n",
       "      <td>A</td>\n",
       "      <td>non_food_pin</td>\n",
       "    </tr>\n",
       "    <tr>\n",
       "      <th>4</th>\n",
       "      <td>Tanzania, United Republic of</td>\n",
       "      <td>438</td>\n",
       "      <td>Net per capita PIN (base 1999-2001)</td>\n",
       "      <td>1995.0</td>\n",
       "      <td>Int. $</td>\n",
       "      <td>105.0</td>\n",
       "      <td>A</td>\n",
       "      <td>livestock_pin</td>\n",
       "    </tr>\n",
       "  </tbody>\n",
       "</table>\n",
       "</div>"
      ],
      "text/plain": [
       "                           Region Element Code  \\\n",
       "0                     Caribbean +          438   \n",
       "1                        Kiribati          434   \n",
       "2                    Micronesia +          438   \n",
       "3  Occupied Palestinian Territory          434   \n",
       "4    Tanzania, United Republic of          438   \n",
       "\n",
       "                               Element    Year    Unit  Dollar Amount  \\\n",
       "0  Net per capita PIN (base 1999-2001)  1977.0  Int. $          115.0   \n",
       "1  Grs per capita PIN (base 1999-2001)  1980.0  Int. $          102.0   \n",
       "2  Net per capita PIN (base 1999-2001)  1965.0  Int. $          335.0   \n",
       "3  Grs per capita PIN (base 1999-2001)  1964.0  Int. $            0.0   \n",
       "4  Net per capita PIN (base 1999-2001)  1995.0  Int. $          105.0   \n",
       "\n",
       "  Value Footnotes         Category  \n",
       "0              A     livestock_pin  \n",
       "1              A         crops_pin  \n",
       "2              A   agriculture_pin  \n",
       "3              A      non_food_pin  \n",
       "4              A     livestock_pin  "
      ]
     },
     "execution_count": 3,
     "metadata": {},
     "output_type": "execute_result"
    }
   ],
   "source": [
    "# Change the name of the dataframe for ease in coding\n",
    "df = prod_train\n",
    "\n",
    "# Change the name of the columns first\n",
    "headers = [\"Region\", \"Element Code\", \"Element\", \"Year\", \"Unit\", \"Dollar Amount\", \"Value Footnotes\", \"Category\"]\n",
    "df.columns = headers\n",
    "\n",
    "# Figure out what we're replacing null values with for each column\n",
    "df_shape_og = df.shape\n",
    "print(df.isna().sum())\n",
    "df.head()"
   ]
  },
  {
   "cell_type": "code",
   "execution_count": 15,
   "metadata": {},
   "outputs": [
    {
     "name": "stdout",
     "output_type": "stream",
     "text": [
      "<class 'pandas.core.frame.DataFrame'>\n",
      "Int64Index: 231078 entries, 0 to 233724\n",
      "Data columns (total 8 columns):\n",
      " #   Column            Non-Null Count   Dtype  \n",
      "---  ------            --------------   -----  \n",
      " 0   Region            231078 non-null  object \n",
      " 1   Element Code      231078 non-null  object \n",
      " 2   Element           231078 non-null  object \n",
      " 3   Year              231078 non-null  float64\n",
      " 4   Unit              231078 non-null  object \n",
      " 5   Dollar Amount     231078 non-null  float64\n",
      " 6   Category          231078 non-null  object \n",
      " 7   Gross/Net Binary  231078 non-null  int64  \n",
      "dtypes: float64(2), int64(1), object(5)\n",
      "memory usage: 15.9+ MB\n"
     ]
    }
   ],
   "source": [
    "df.info()"
   ]
  },
  {
   "cell_type": "code",
   "execution_count": 5,
   "metadata": {},
   "outputs": [
    {
     "data": {
      "text/html": [
       "<div>\n",
       "<style scoped>\n",
       "    .dataframe tbody tr th:only-of-type {\n",
       "        vertical-align: middle;\n",
       "    }\n",
       "\n",
       "    .dataframe tbody tr th {\n",
       "        vertical-align: top;\n",
       "    }\n",
       "\n",
       "    .dataframe thead th {\n",
       "        text-align: right;\n",
       "    }\n",
       "</style>\n",
       "<table border=\"1\" class=\"dataframe\">\n",
       "  <thead>\n",
       "    <tr style=\"text-align: right;\">\n",
       "      <th></th>\n",
       "      <th>Region</th>\n",
       "      <th>Element Code</th>\n",
       "      <th>Element</th>\n",
       "      <th>Year</th>\n",
       "      <th>Unit</th>\n",
       "      <th>Dollar Amount</th>\n",
       "      <th>Value Footnotes</th>\n",
       "      <th>Category</th>\n",
       "    </tr>\n",
       "  </thead>\n",
       "  <tbody>\n",
       "    <tr>\n",
       "      <th>36730</th>\n",
       "      <td>fnSeqID</td>\n",
       "      <td>Footnote</td>\n",
       "      <td>NaN</td>\n",
       "      <td>NaN</td>\n",
       "      <td>NaN</td>\n",
       "      <td>NaN</td>\n",
       "      <td>NaN</td>\n",
       "      <td>livestock_pin</td>\n",
       "    </tr>\n",
       "    <tr>\n",
       "      <th>41795</th>\n",
       "      <td>fnSeqID</td>\n",
       "      <td>Footnote</td>\n",
       "      <td>NaN</td>\n",
       "      <td>NaN</td>\n",
       "      <td>NaN</td>\n",
       "      <td>NaN</td>\n",
       "      <td>NaN</td>\n",
       "      <td>non_food_pin</td>\n",
       "    </tr>\n",
       "    <tr>\n",
       "      <th>86401</th>\n",
       "      <td>A</td>\n",
       "      <td>May include official, semi-official or estimat...</td>\n",
       "      <td>NaN</td>\n",
       "      <td>NaN</td>\n",
       "      <td>NaN</td>\n",
       "      <td>NaN</td>\n",
       "      <td>NaN</td>\n",
       "      <td>non_food_pin</td>\n",
       "    </tr>\n",
       "    <tr>\n",
       "      <th>88414</th>\n",
       "      <td>fnSeqID</td>\n",
       "      <td>Footnote</td>\n",
       "      <td>NaN</td>\n",
       "      <td>NaN</td>\n",
       "      <td>NaN</td>\n",
       "      <td>NaN</td>\n",
       "      <td>NaN</td>\n",
       "      <td>crops_pin</td>\n",
       "    </tr>\n",
       "    <tr>\n",
       "      <th>109768</th>\n",
       "      <td>fnSeqID</td>\n",
       "      <td>Footnote</td>\n",
       "      <td>NaN</td>\n",
       "      <td>NaN</td>\n",
       "      <td>NaN</td>\n",
       "      <td>NaN</td>\n",
       "      <td>NaN</td>\n",
       "      <td>agriculture_pin</td>\n",
       "    </tr>\n",
       "    <tr>\n",
       "      <th>113185</th>\n",
       "      <td>A</td>\n",
       "      <td>May include official, semi-official or estimat...</td>\n",
       "      <td>NaN</td>\n",
       "      <td>NaN</td>\n",
       "      <td>NaN</td>\n",
       "      <td>NaN</td>\n",
       "      <td>NaN</td>\n",
       "      <td>livestock_pin</td>\n",
       "    </tr>\n",
       "    <tr>\n",
       "      <th>160684</th>\n",
       "      <td>fnSeqID</td>\n",
       "      <td>Footnote</td>\n",
       "      <td>NaN</td>\n",
       "      <td>NaN</td>\n",
       "      <td>NaN</td>\n",
       "      <td>NaN</td>\n",
       "      <td>NaN</td>\n",
       "      <td>food_pin</td>\n",
       "    </tr>\n",
       "    <tr>\n",
       "      <th>200497</th>\n",
       "      <td>A</td>\n",
       "      <td>May include official, semi-official or estimat...</td>\n",
       "      <td>NaN</td>\n",
       "      <td>NaN</td>\n",
       "      <td>NaN</td>\n",
       "      <td>NaN</td>\n",
       "      <td>NaN</td>\n",
       "      <td>food_pin</td>\n",
       "    </tr>\n",
       "    <tr>\n",
       "      <th>227575</th>\n",
       "      <td>A</td>\n",
       "      <td>May include official, semi-official or estimat...</td>\n",
       "      <td>NaN</td>\n",
       "      <td>NaN</td>\n",
       "      <td>NaN</td>\n",
       "      <td>NaN</td>\n",
       "      <td>NaN</td>\n",
       "      <td>agriculture_pin</td>\n",
       "    </tr>\n",
       "  </tbody>\n",
       "</table>\n",
       "</div>"
      ],
      "text/plain": [
       "         Region                                       Element Code Element  \\\n",
       "36730   fnSeqID                                           Footnote     NaN   \n",
       "41795   fnSeqID                                           Footnote     NaN   \n",
       "86401        A   May include official, semi-official or estimat...     NaN   \n",
       "88414   fnSeqID                                           Footnote     NaN   \n",
       "109768  fnSeqID                                           Footnote     NaN   \n",
       "113185       A   May include official, semi-official or estimat...     NaN   \n",
       "160684  fnSeqID                                           Footnote     NaN   \n",
       "200497       A   May include official, semi-official or estimat...     NaN   \n",
       "227575       A   May include official, semi-official or estimat...     NaN   \n",
       "\n",
       "        Year Unit  Dollar Amount Value Footnotes         Category  \n",
       "36730    NaN  NaN            NaN             NaN    livestock_pin  \n",
       "41795    NaN  NaN            NaN             NaN     non_food_pin  \n",
       "86401    NaN  NaN            NaN             NaN     non_food_pin  \n",
       "88414    NaN  NaN            NaN             NaN        crops_pin  \n",
       "109768   NaN  NaN            NaN             NaN  agriculture_pin  \n",
       "113185   NaN  NaN            NaN             NaN    livestock_pin  \n",
       "160684   NaN  NaN            NaN             NaN         food_pin  \n",
       "200497   NaN  NaN            NaN             NaN         food_pin  \n",
       "227575   NaN  NaN            NaN             NaN  agriculture_pin  "
      ]
     },
     "execution_count": 5,
     "metadata": {},
     "output_type": "execute_result"
    }
   ],
   "source": [
    "df.loc[df['Element'].isna()]"
   ]
  },
  {
   "cell_type": "code",
   "execution_count": 6,
   "metadata": {},
   "outputs": [
    {
     "name": "stdout",
     "output_type": "stream",
     "text": [
      "2638\n",
      "1.1286768638357043 %\n"
     ]
    }
   ],
   "source": [
    "# There are 2,638 values in the Dollar Amount Column that are zero\n",
    "print(df.loc[df['Dollar Amount'] == 0.0]['Dollar Amount'].count())\n",
    "print((2638/df.shape[0])*100, \"%\")"
   ]
  },
  {
   "cell_type": "code",
   "execution_count": 7,
   "metadata": {},
   "outputs": [
    {
     "name": "stdout",
     "output_type": "stream",
     "text": [
      "Element:  ['Net per capita PIN (base 1999-2001)'\n",
      " 'Grs per capita PIN (base 1999-2001)' 'Net PIN (base 1999-2001)'\n",
      " 'Gross PIN (base 1999-2001)' 'Net Production 1999-2001 (1000 I$)'\n",
      " 'Gross Production 1999-2001 (1000 I$)' nan]\n",
      "--------------------------------------------------------------------------------\n",
      "Year:  [1977. 1980. 1965. 1964. 1995. 1978. 1975. 1972. 1963. 1998. 1971. 1983.\n",
      " 1988. 1999. 1976. 2007. 1973. 2006. 1967. 1962. 1994. 2001. 1987. 1984.\n",
      " 1974. 1966. 2003. 2005. 1982. 1969. 1991. 1989. 1996. 2002. 1986. 1993.\n",
      " 1961. 1981. 1990. 1997. 1992. 2000. 1970. 2004. 1968. 1979. 1985.   nan]\n",
      "--------------------------------------------------------------------------------\n",
      "Unit:  ['Int. $' '1000 Int. $' nan]\n",
      "--------------------------------------------------------------------------------\n",
      "Dollar Amount:  [1.150000e+02 1.020000e+02 3.350000e+02 ... 3.079169e+06 3.336800e+04\n",
      " 2.411800e+04]\n",
      "--------------------------------------------------------------------------------\n",
      "Value Footnotes:  ['A ' nan]\n"
     ]
    }
   ],
   "source": [
    "print('Element: ', df['Element'].unique())\n",
    "print('-'*80)\n",
    "print('Year: ', df['Year'].unique())\n",
    "print('-'*80)\n",
    "print('Unit: ', df['Unit'].unique())\n",
    "print('-'*80)\n",
    "print('Dollar Amount: ', df['Dollar Amount'].unique())\n",
    "print('-'*80)\n",
    "print('Value Footnotes: ', df['Value Footnotes'].unique())"
   ]
  },
  {
   "cell_type": "markdown",
   "metadata": {},
   "source": [
    "# Start Cleaning"
   ]
  },
  {
   "cell_type": "markdown",
   "metadata": {},
   "source": [
    "### Annotations about cleaning function\n",
    "\n",
    "##### Element\n",
    "- Seperate into Gross/Net\n",
    "- Create Binary col based off of this\n",
    "\n",
    "##### Year\n",
    "- Replace with median value\n",
    "\n",
    "##### Unit\n",
    "- Replace with Int.\n",
    "\n",
    "##### Value\n",
    "- Since this is the information that we will be predicting on the test set, we are going to drop any row of the train set that contains a null or zero.\n",
    "\n",
    "##### Value Footnotes\n",
    "- Since all values are the same, we are going to drop this column. As it will have no sway on the model. "
   ]
  },
  {
   "cell_type": "markdown",
   "metadata": {},
   "source": [
    "## Handling Nulls and Dropping Data"
   ]
  },
  {
   "cell_type": "code",
   "execution_count": 8,
   "metadata": {},
   "outputs": [],
   "source": [
    "# Drop Value Footnotes\n",
    "df.drop(columns='Value Footnotes', inplace=True)"
   ]
  },
  {
   "cell_type": "code",
   "execution_count": 9,
   "metadata": {},
   "outputs": [],
   "source": [
    "# Replacing null Year values with median (which is 1985), Element values with Gross, and Unit values with 'Int. $'\n",
    "# Just in case; but it appears that any row with these values missing (in this DF) are also missing Dollar Amounts\n",
    "\n",
    "year_med = st.median(df['Year'])\n",
    "values = {'Year': year_med, 'Element': 'Gross', 'Unit': 'Int. $'}\n",
    "df.fillna(value=values, inplace=True)"
   ]
  },
  {
   "cell_type": "code",
   "execution_count": 10,
   "metadata": {},
   "outputs": [
    {
     "data": {
      "text/plain": [
       "Region           0\n",
       "Element Code     0\n",
       "Element          0\n",
       "Year             0\n",
       "Unit             0\n",
       "Dollar Amount    9\n",
       "Category         0\n",
       "dtype: int64"
      ]
     },
     "execution_count": 10,
     "metadata": {},
     "output_type": "execute_result"
    }
   ],
   "source": [
    "df.isna().sum()"
   ]
  },
  {
   "cell_type": "code",
   "execution_count": 11,
   "metadata": {},
   "outputs": [
    {
     "name": "stdout",
     "output_type": "stream",
     "text": [
      "# of rows dropped:  2647\n"
     ]
    }
   ],
   "source": [
    "# Drop rows containing nulls in the Dollar Amount col\n",
    "df.dropna(subset=['Dollar Amount'], inplace=True)\n",
    "\n",
    "# Drop rows containing zero in the Dollar Amount col\n",
    "df = df[df['Dollar Amount'] != 0]\n",
    "\n",
    "# Sanity Check\n",
    "print('# of rows dropped: ', df_shape_og[0] - df.shape[0])"
   ]
  },
  {
   "cell_type": "markdown",
   "metadata": {},
   "source": [
    "## Handling the 'Element' Column"
   ]
  },
  {
   "cell_type": "code",
   "execution_count": 12,
   "metadata": {},
   "outputs": [],
   "source": [
    "element_col = []\n",
    "binary_col = []\n",
    "for val in df['Element']:\n",
    "    if 'Net' in val:\n",
    "        element_col.append('Net')\n",
    "        binary_col.append(0)\n",
    "    elif ('Gross') in val:\n",
    "        element_col.append('Gross')\n",
    "        binary_col.append(1)\n",
    "    elif ('Grs') in val:\n",
    "        element_col.append('Gross')\n",
    "        binary_col.append(1)\n",
    "    else:\n",
    "        element_col.append('Gross')\n",
    "        binary_col.append(1)"
   ]
  },
  {
   "cell_type": "code",
   "execution_count": 13,
   "metadata": {},
   "outputs": [
    {
     "data": {
      "text/html": [
       "<div>\n",
       "<style scoped>\n",
       "    .dataframe tbody tr th:only-of-type {\n",
       "        vertical-align: middle;\n",
       "    }\n",
       "\n",
       "    .dataframe tbody tr th {\n",
       "        vertical-align: top;\n",
       "    }\n",
       "\n",
       "    .dataframe thead th {\n",
       "        text-align: right;\n",
       "    }\n",
       "</style>\n",
       "<table border=\"1\" class=\"dataframe\">\n",
       "  <thead>\n",
       "    <tr style=\"text-align: right;\">\n",
       "      <th></th>\n",
       "      <th>Region</th>\n",
       "      <th>Element Code</th>\n",
       "      <th>Element</th>\n",
       "      <th>Year</th>\n",
       "      <th>Unit</th>\n",
       "      <th>Dollar Amount</th>\n",
       "      <th>Category</th>\n",
       "      <th>Gross/Net Binary</th>\n",
       "    </tr>\n",
       "  </thead>\n",
       "  <tbody>\n",
       "    <tr>\n",
       "      <th>0</th>\n",
       "      <td>Caribbean +</td>\n",
       "      <td>438</td>\n",
       "      <td>Net</td>\n",
       "      <td>1977.0</td>\n",
       "      <td>Int. $</td>\n",
       "      <td>115.0</td>\n",
       "      <td>livestock_pin</td>\n",
       "      <td>0</td>\n",
       "    </tr>\n",
       "    <tr>\n",
       "      <th>1</th>\n",
       "      <td>Kiribati</td>\n",
       "      <td>434</td>\n",
       "      <td>Gross</td>\n",
       "      <td>1980.0</td>\n",
       "      <td>Int. $</td>\n",
       "      <td>102.0</td>\n",
       "      <td>crops_pin</td>\n",
       "      <td>1</td>\n",
       "    </tr>\n",
       "    <tr>\n",
       "      <th>2</th>\n",
       "      <td>Micronesia +</td>\n",
       "      <td>438</td>\n",
       "      <td>Net</td>\n",
       "      <td>1965.0</td>\n",
       "      <td>Int. $</td>\n",
       "      <td>335.0</td>\n",
       "      <td>agriculture_pin</td>\n",
       "      <td>0</td>\n",
       "    </tr>\n",
       "    <tr>\n",
       "      <th>4</th>\n",
       "      <td>Tanzania, United Republic of</td>\n",
       "      <td>438</td>\n",
       "      <td>Net</td>\n",
       "      <td>1995.0</td>\n",
       "      <td>Int. $</td>\n",
       "      <td>105.0</td>\n",
       "      <td>livestock_pin</td>\n",
       "      <td>0</td>\n",
       "    </tr>\n",
       "    <tr>\n",
       "      <th>5</th>\n",
       "      <td>Albania</td>\n",
       "      <td>434</td>\n",
       "      <td>Gross</td>\n",
       "      <td>1978.0</td>\n",
       "      <td>Int. $</td>\n",
       "      <td>51.0</td>\n",
       "      <td>livestock_pin</td>\n",
       "      <td>1</td>\n",
       "    </tr>\n",
       "  </tbody>\n",
       "</table>\n",
       "</div>"
      ],
      "text/plain": [
       "                         Region Element Code Element    Year    Unit  \\\n",
       "0                   Caribbean +          438     Net  1977.0  Int. $   \n",
       "1                      Kiribati          434   Gross  1980.0  Int. $   \n",
       "2                  Micronesia +          438     Net  1965.0  Int. $   \n",
       "4  Tanzania, United Republic of          438     Net  1995.0  Int. $   \n",
       "5                       Albania          434   Gross  1978.0  Int. $   \n",
       "\n",
       "   Dollar Amount         Category  Gross/Net Binary  \n",
       "0          115.0    livestock_pin                 0  \n",
       "1          102.0        crops_pin                 1  \n",
       "2          335.0  agriculture_pin                 0  \n",
       "4          105.0    livestock_pin                 0  \n",
       "5           51.0    livestock_pin                 1  "
      ]
     },
     "execution_count": 13,
     "metadata": {},
     "output_type": "execute_result"
    }
   ],
   "source": [
    "df['Element'], df['Gross/Net Binary'] = element_col, binary_col\n",
    "df.head()"
   ]
  },
  {
   "cell_type": "code",
   "execution_count": 14,
   "metadata": {},
   "outputs": [],
   "source": [
    "## maybe replace unit with 1 for 'Int. $' and 1000 for '1000 Int. $' and multiplying dollar amount by unit then dropping col?\n",
    "# Need to drop '+' in names\n",
    "# Change dollar amount and year to int"
   ]
  },
  {
   "cell_type": "code",
   "execution_count": null,
   "metadata": {},
   "outputs": [],
   "source": []
  }
 ],
 "metadata": {
  "kernelspec": {
   "display_name": "Python [conda env:learn-env] *",
   "language": "python",
   "name": "conda-env-learn-env-py"
  },
  "language_info": {
   "codemirror_mode": {
    "name": "ipython",
    "version": 3
   },
   "file_extension": ".py",
   "mimetype": "text/x-python",
   "name": "python",
   "nbconvert_exporter": "python",
   "pygments_lexer": "ipython3",
   "version": "3.6.9"
  }
 },
 "nbformat": 4,
 "nbformat_minor": 2
}
