{
 "cells": [
  {
   "cell_type": "markdown",
   "metadata": {},
   "source": [
    "# Capstone "
   ]
  },
  {
   "cell_type": "markdown",
   "metadata": {},
   "source": [
    "##### Data\n",
    "- Who Eats The Food We Grow: https://www.kaggle.com/dorbicycle/world-foodfeed-production\n",
    "- Global Food & Agriculture Statistics: https://www.kaggle.com/unitednations/global-food-agriculture-statistics\n",
    "- Environmental Impact of Food Production: https://www.kaggle.com/selfvivek/environment-impact-of-food-production"
   ]
  },
  {
   "cell_type": "markdown",
   "metadata": {},
   "source": [
    "## Abstract:"
   ]
  },
  {
   "cell_type": "markdown",
   "metadata": {},
   "source": [
    "I've been passionate about food since I was a young child; having the fortune to have grown up on a farm in the Mid-West, growing my own food is engrained in my personality. As I've grown up, I have become more fascinated with the realization that growing food for personal consumption isn't something that is quite as commonplace in other regions of the U.S. I happened to be visiting my old neighbors when I went back home this summer when it all clicked together. The staple of America's identity is being replaced by outsourced, lower quality food.\n",
    "\n",
    "As I gathered my data and explored this issue more in depth, I was curious to know how other countries are approaching the world food economy."
   ]
  },
  {
   "cell_type": "markdown",
   "metadata": {},
   "source": [
    "## Technical Analysis"
   ]
  },
  {
   "cell_type": "markdown",
   "metadata": {},
   "source": [
    "### 1. Business Understanding"
   ]
  },
  {
   "cell_type": "markdown",
   "metadata": {},
   "source": [
    "#### Objectives\n"
   ]
  },
  {
   "cell_type": "markdown",
   "metadata": {},
   "source": [
    "My career focus is on food sustainability & accessability. With this capstone, I am inquiring into the global statistics of food production including geographical location, transportation, types of products and top producing countries.\n",
    "- After sifting through and cleaning the data; I decided to add in data that has emissions information for different products. My plan is to add this to the main dataframe and perhaps do some kind of predictive modelling for emissions by Country or Year."
   ]
  },
  {
   "cell_type": "markdown",
   "metadata": {},
   "source": [
    "#### Project Plan "
   ]
  },
  {
   "cell_type": "markdown",
   "metadata": {},
   "source": [
    "I have implemented this notebook; where I will document my journey through this capstone. I also have a timeline implemented by my instructor that has been worked into my work-flow; I will keep track of my progress and ideas on the trello board below. Additionally; I will have daily meetings with peers and instructors to stay on track and ask any questions that I may have. "
   ]
  },
  {
   "cell_type": "markdown",
   "metadata": {},
   "source": [
    "#### Trello Board:  https://trello.com/b/imn9Ivjz/capstone"
   ]
  },
  {
   "cell_type": "markdown",
   "metadata": {},
   "source": [
    "#### Success Criteria"
   ]
  },
  {
   "cell_type": "markdown",
   "metadata": {},
   "source": [
    "- Meeting deadlines\n",
    "- Curate at least 5 insightful visualizations for presentation\n",
    "- Learn something new!\n",
    "- Make a thorough presentation and continue building on my own brand and presentation skills"
   ]
  },
  {
   "cell_type": "markdown",
   "metadata": {},
   "source": [
    "### 2. Data Understanding"
   ]
  },
  {
   "cell_type": "markdown",
   "metadata": {},
   "source": [
    "Write a script to download the data (or instructions for future users on how to manually download it), and explore it. Do you understand what the columns mean? If the dataset has more than one table, how do they relate to each other? How will you select the subset of relevant data? What kind of data cleaning is required?\n",
    "\n",
    "It may be useful to generate visualizations of the data during this phase."
   ]
  },
  {
   "cell_type": "markdown",
   "metadata": {},
   "source": [
    "##### Who Eats The Food We Grow:"
   ]
  },
  {
   "cell_type": "markdown",
   "metadata": {},
   "source": [
    "Column Explanations:\n",
    "\n",
    "- Area Abbreviation: Country name abbreviation\n",
    "- Area Code: Country code\n",
    "- Area: Country name\n",
    "- Item Code: Food item code\n",
    "- Item: Food item\n",
    "- Element Code: Food or Feed code\n",
    "- Element: Food or Feed\n",
    "- Unit: Unit of measurement\n",
    "- latitude\n",
    "- longitude\n"
   ]
  },
  {
   "cell_type": "markdown",
   "metadata": {},
   "source": [
    "### Global Food & Agriculture Statistics:"
   ]
  },
  {
   "cell_type": "markdown",
   "metadata": {},
   "source": [
    "##### fao_data (Crops, Fertilizers, Forest Data, Land Data, Production Indices)\n",
    "Column Explanations:\n",
    "\n",
    "- country_or_area: Country Name\n",
    "- element_code\n",
    "- element\n",
    "- year\n",
    "- unit\n",
    "- value\n",
    "- value_footnotes\n",
    "- category"
   ]
  },
  {
   "cell_type": "markdown",
   "metadata": {},
   "source": [
    "### 3. Data Preparation"
   ]
  },
  {
   "cell_type": "markdown",
   "metadata": {},
   "source": [
    "I focused heavily on data preparation and engineering in this project. Utilizing pandas and various sources, I was able to calculate the emissions per country by year over the course of 53 years (1961-2013). I wanted more hands-on experience with engineering useful features and drawing insights from the data. My main goal was to really cement my personal foundations for data analysis in a way that made sense to me. "
   ]
  },
  {
   "cell_type": "markdown",
   "metadata": {},
   "source": [
    "### 4. Modeling "
   ]
  },
  {
   "cell_type": "markdown",
   "metadata": {},
   "source": [
    "In this project, I did not focus heavily on modeling as others have. I started to gather ideas and frameworks; but unfortunately ran out of time. I do however plan to focus on this step post-capstone as I believe it is a vital skill towards my future career."
   ]
  },
  {
   "cell_type": "markdown",
   "metadata": {},
   "source": [
    "### 5. Evaluation"
   ]
  },
  {
   "cell_type": "markdown",
   "metadata": {},
   "source": [
    "N/A"
   ]
  },
  {
   "cell_type": "markdown",
   "metadata": {},
   "source": [
    "### 6. Deployment"
   ]
  },
  {
   "cell_type": "markdown",
   "metadata": {},
   "source": [
    "In this case, your \"deployment\" comes in the form of the deliverables listed above. Make sure you can answer the following questions about your process:\n",
    "\n",
    "- \"How did you pick the question(s) that you did?\"\n",
    "- \"Why are these questions important from a business perspective?\"\n",
    "- \"How did you decide on the data cleaning options you performed?\"\n",
    "- \"Why did you choose a given method or library?\"\n",
    "- \"Why did you select these visualizations and what did you learn from each of them?\"\n",
    "- \"Why did you pick those features as predictors?\"\n",
    "- \"How would you interpret the results?\"\n",
    "- \"How confident are you in the predictive quality of the results?\"\n",
    "- \"What are some of the things that could cause the results to be wrong?\""
   ]
  },
  {
   "cell_type": "markdown",
   "metadata": {},
   "source": [
    "I allowed the exploration of the data to really show me what to ask and what to dig deeper into. Over previous modules I've noticed that I have a tendency to close off my mind to outside influences once I have chosen my 'questions.' It is exactly for that reason why I strayed away from the concreteness of questions during the capstone. \n",
    "\n",
    "Approaching the data this way really allowed me to engineer some interesting features and gain insights in ways that I wouldn't have done otherwise.\n",
    "\n",
    "I'm proud of the work that I have done, and look forward to continuing this journey or gathering knowledge and application!\n",
    "\n",
    "Live. Love. Code. -Flatiron"
   ]
  }
 ],
 "metadata": {
  "kernelspec": {
   "display_name": "Python [conda env:learn-env] *",
   "language": "python",
   "name": "conda-env-learn-env-py"
  },
  "language_info": {
   "codemirror_mode": {
    "name": "ipython",
    "version": 3
   },
   "file_extension": ".py",
   "mimetype": "text/x-python",
   "name": "python",
   "nbconvert_exporter": "python",
   "pygments_lexer": "ipython3",
   "version": "3.6.9"
  }
 },
 "nbformat": 4,
 "nbformat_minor": 2
}
