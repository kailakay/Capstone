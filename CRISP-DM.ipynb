{
 "cells": [
  {
   "cell_type": "markdown",
   "metadata": {},
   "source": [
    "# Capstone "
   ]
  },
  {
   "cell_type": "markdown",
   "metadata": {},
   "source": [
    "##### Data\n",
    "- Who Eats The Food We Grow: https://www.kaggle.com/dorbicycle/world-foodfeed-production\n",
    "- Global Food & Agriculture Statistics: https://www.kaggle.com/unitednations/global-food-agriculture-statistics"
   ]
  },
  {
   "cell_type": "markdown",
   "metadata": {},
   "source": [
    "## Abstract:"
   ]
  },
  {
   "cell_type": "markdown",
   "metadata": {},
   "source": [
    "##### write 2 paragraphs that briefly explains your problem, your methodology, and your findings, and business recommendations as a result of your findings"
   ]
  },
  {
   "cell_type": "markdown",
   "metadata": {},
   "source": [
    "## Technical Analysis"
   ]
  },
  {
   "cell_type": "markdown",
   "metadata": {},
   "source": [
    "### 1. Business Understanding"
   ]
  },
  {
   "cell_type": "markdown",
   "metadata": {},
   "source": [
    "#### Objectives\n"
   ]
  },
  {
   "cell_type": "markdown",
   "metadata": {},
   "source": [
    "My career focus is on food sustainability & accessability. With this capstone, I am inquiring into the global statistics of food production including geographical location, transportation, types of products and top producing countries.\n",
    "- After sifting through and cleaning the data; I decided to add in data that has emissions information for different products. My plan is to add this to the main dataframe and perhaps do some kind of predictive modelling for emissions by Country or Year."
   ]
  },
  {
   "cell_type": "markdown",
   "metadata": {},
   "source": [
    "#### Project Plan "
   ]
  },
  {
   "cell_type": "markdown",
   "metadata": {},
   "source": [
    "I have implemented this notebook; where I will document my journey through this capstone. I also have a timeline implemented by my instructor that has been worked into my work-flow; I will keep track of my progress and ideas on the trello board below. Additionally; I will have daily meetings with peers and instructors to stay on track and ask any questions that I may have. "
   ]
  },
  {
   "cell_type": "markdown",
   "metadata": {},
   "source": [
    "#### Trello Board:  https://trello.com/b/imn9Ivjz/capstone"
   ]
  },
  {
   "cell_type": "markdown",
   "metadata": {},
   "source": [
    "#### Success Criteria"
   ]
  },
  {
   "cell_type": "markdown",
   "metadata": {},
   "source": [
    "- Meeting deadlines\n",
    "- Curate at least 5 insightful visualizations for presentation\n",
    "- Learn something new!\n",
    "- Make a thorough presentation and continue building on my own brand and presentation skills"
   ]
  },
  {
   "cell_type": "markdown",
   "metadata": {},
   "source": [
    "### 2. Data Understanding"
   ]
  },
  {
   "cell_type": "markdown",
   "metadata": {},
   "source": [
    "Write a script to download the data (or instructions for future users on how to manually download it), and explore it. Do you understand what the columns mean? If the dataset has more than one table, how do they relate to each other? How will you select the subset of relevant data? What kind of data cleaning is required?\n",
    "\n",
    "It may be useful to generate visualizations of the data during this phase."
   ]
  },
  {
   "cell_type": "markdown",
   "metadata": {},
   "source": [
    "##### Who Eats The Food We Grow:"
   ]
  },
  {
   "cell_type": "markdown",
   "metadata": {},
   "source": [
    "Column Explanations:\n",
    "\n",
    "- Area Abbreviation: Country name abbreviation\n",
    "- Area Code: Country code\n",
    "- Area: Country name\n",
    "- Item Code: Food item code\n",
    "- Item: Food item\n",
    "- Element Code: Food or Feed code\n",
    "- Element: Food or Feed\n",
    "- Unit: Unit of measurement\n",
    "- latitude\n",
    "- longitude\n"
   ]
  },
  {
   "cell_type": "markdown",
   "metadata": {},
   "source": [
    "### Global Food & Agriculture Statistics:"
   ]
  },
  {
   "cell_type": "markdown",
   "metadata": {},
   "source": [
    "##### fao_data (Crops, Fertilizers, Forest Data, Land Data, Production Indices)\n",
    "Column Explanations:\n",
    "\n",
    "- country_or_area: Country Name\n",
    "- element_code\n",
    "- element\n",
    "- year\n",
    "- unit\n",
    "- value\n",
    "- value_footnotes\n",
    "- category"
   ]
  },
  {
   "cell_type": "markdown",
   "metadata": {},
   "source": [
    "##### fao_raw_files\n",
    "TBD"
   ]
  },
  {
   "cell_type": "code",
   "execution_count": null,
   "metadata": {},
   "outputs": [],
   "source": []
  },
  {
   "cell_type": "code",
   "execution_count": null,
   "metadata": {},
   "outputs": [],
   "source": []
  },
  {
   "cell_type": "code",
   "execution_count": null,
   "metadata": {},
   "outputs": [],
   "source": []
  },
  {
   "cell_type": "code",
   "execution_count": null,
   "metadata": {},
   "outputs": [],
   "source": []
  },
  {
   "cell_type": "markdown",
   "metadata": {},
   "source": [
    "### 3. Data Preparation"
   ]
  },
  {
   "cell_type": "markdown",
   "metadata": {},
   "source": [
    "Through SQL and Pandas, perform any necessary data cleaning and develop a query that pulls in all relevant data for modeling, including any merging of tables. Be sure to document any data that you choose to drop or otherwise exclude. This is also the phase to consider any feature scaling or one-hot encoding required to feed the data into your particular model."
   ]
  },
  {
   "cell_type": "markdown",
   "metadata": {},
   "source": [
    "### 4. Modeling "
   ]
  },
  {
   "cell_type": "markdown",
   "metadata": {},
   "source": [
    "Similar to the Mod 3 project, the focus is on prediction. Good prediction is a matter of the model generalizing well. Steps we can take to assure good generalization include: testing the model on unseen data, cross-validation, and regularization. What sort of model should you build?\n",
    "\n",
    "Here you will also likely encounter problems with computational capacity. Figure out how to use smaller samples of your data in order to tweak hyperparameters. Investigate cloud tools with hardware acceleration (e.g. Google Colab is a free one) in order to run your analysis with larger sets of data and more versions of the model."
   ]
  },
  {
   "cell_type": "markdown",
   "metadata": {},
   "source": [
    "### 5. Evaluation"
   ]
  },
  {
   "cell_type": "markdown",
   "metadata": {},
   "source": [
    "Recall that there are many different metrics we might use for evaluating a classification model. Accuracy is intuitive, but can be misleading, especially if you have class imbalances in your target. Perhaps, depending on you're defining things, it is more important to minimize false positives, or false negatives. It might therefore be more appropriate to focus on precision or recall. You might also calculate the AUC-ROC to measure your model's discrimination."
   ]
  },
  {
   "cell_type": "markdown",
   "metadata": {},
   "source": [
    "### 6. Deployment"
   ]
  },
  {
   "cell_type": "markdown",
   "metadata": {},
   "source": [
    "In this case, your \"deployment\" comes in the form of the deliverables listed above. Make sure you can answer the following questions about your process:\n",
    "\n",
    "- \"How did you pick the question(s) that you did?\"\n",
    "- \"Why are these questions important from a business perspective?\"\n",
    "- \"How did you decide on the data cleaning options you performed?\"\n",
    "- \"Why did you choose a given method or library?\"\n",
    "- \"Why did you select these visualizations and what did you learn from each of them?\"\n",
    "- \"Why did you pick those features as predictors?\"\n",
    "- \"How would you interpret the results?\"\n",
    "- \"How confident are you in the predictive quality of the results?\"\n",
    "- \"What are some of the things that could cause the results to be wrong?\""
   ]
  },
  {
   "cell_type": "code",
   "execution_count": null,
   "metadata": {},
   "outputs": [],
   "source": []
  }
 ],
 "metadata": {
  "kernelspec": {
   "display_name": "Python [conda env:learn-env] *",
   "language": "python",
   "name": "conda-env-learn-env-py"
  },
  "language_info": {
   "codemirror_mode": {
    "name": "ipython",
    "version": 3
   },
   "file_extension": ".py",
   "mimetype": "text/x-python",
   "name": "python",
   "nbconvert_exporter": "python",
   "pygments_lexer": "ipython3",
   "version": "3.6.9"
  }
 },
 "nbformat": 4,
 "nbformat_minor": 2
}
